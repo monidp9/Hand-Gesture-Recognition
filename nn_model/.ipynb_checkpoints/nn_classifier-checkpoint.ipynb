{
 "cells": [
  {
   "cell_type": "code",
   "execution_count": 1,
   "metadata": {},
   "outputs": [
    {
     "name": "stderr",
     "output_type": "stream",
     "text": [
      "2022-12-28 09:43:09.360563: I tensorflow/core/platform/cpu_feature_guard.cc:193] This TensorFlow binary is optimized with oneAPI Deep Neural Network Library (oneDNN) to use the following CPU instructions in performance-critical operations:  AVX2 FMA\n",
      "To enable them in other operations, rebuild TensorFlow with the appropriate compiler flags.\n"
     ]
    }
   ],
   "source": [
    "import numpy as np\n",
    "import tensorflow as tf\n",
    "\n",
    "from sklearn.model_selection import train_test_split"
   ]
  },
  {
   "cell_type": "code",
   "execution_count": 4,
   "metadata": {},
   "outputs": [],
   "source": [
    "RANDOM_SEED = 142\n",
    "NUM_CLASSES = 4"
   ]
  },
  {
   "cell_type": "code",
   "execution_count": 5,
   "metadata": {},
   "outputs": [],
   "source": [
    "dataset_path = '/Users/monidp/Desktop/CV_Project/nn_model/keypoint.csv'\n",
    "model_save_path = '/Users/monidp/Desktop/CV_Project/nn_model/nn_classifier.hdf5'"
   ]
  },
  {
   "cell_type": "markdown",
   "metadata": {},
   "source": [
    "## Dataset loading"
   ]
  },
  {
   "cell_type": "code",
   "execution_count": 6,
   "metadata": {},
   "outputs": [],
   "source": [
    "X_dataset = np.loadtxt(dataset_path, delimiter=',', dtype='float32', usecols=list(range(1, (21 * 2) + 1)))\n",
    "y_dataset = np.loadtxt(dataset_path, delimiter=',', dtype='int32', usecols=(0))\n",
    "\n",
    "X_train, X_test, y_train, y_test = train_test_split(X_dataset, y_dataset, train_size=0.75, random_state=RANDOM_SEED)"
   ]
  },
  {
   "cell_type": "markdown",
   "metadata": {},
   "source": [
    "## Model building"
   ]
  },
  {
   "cell_type": "code",
   "execution_count": 36,
   "metadata": {},
   "outputs": [
    {
     "name": "stdout",
     "output_type": "stream",
     "text": [
      "Model: \"sequential_3\"\n",
      "_________________________________________________________________\n",
      " Layer (type)                Output Shape              Param #   \n",
      "=================================================================\n",
      " dropout_9 (Dropout)         (None, 42)                0         \n",
      "                                                                 \n",
      " dense_12 (Dense)            (None, 50)                2150      \n",
      "                                                                 \n",
      " dropout_10 (Dropout)        (None, 50)                0         \n",
      "                                                                 \n",
      " dense_13 (Dense)            (None, 50)                2550      \n",
      "                                                                 \n",
      " dropout_11 (Dropout)        (None, 50)                0         \n",
      "                                                                 \n",
      " dense_14 (Dense)            (None, 50)                2550      \n",
      "                                                                 \n",
      " dense_15 (Dense)            (None, 4)                 204       \n",
      "                                                                 \n",
      "=================================================================\n",
      "Total params: 7,454\n",
      "Trainable params: 7,454\n",
      "Non-trainable params: 0\n",
      "_________________________________________________________________\n"
     ]
    }
   ],
   "source": [
    "model = tf.keras.models.Sequential([\n",
    "    tf.keras.layers.Input((21 * 2, )),\n",
    "    tf.keras.layers.Dropout(0.2),\n",
    "    tf.keras.layers.Dense(50, activation='relu'),\n",
    "    tf.keras.layers.Dropout(0.2),\n",
    "    tf.keras.layers.Dense(50, activation='relu'),\n",
    "    tf.keras.layers.Dropout(0.2),\n",
    "    tf.keras.layers.Dense(50, activation='relu'),\n",
    "    tf.keras.layers.Dense(NUM_CLASSES, activation='softmax')\n",
    "])\n",
    "\n",
    "model.summary()"
   ]
  },
  {
   "cell_type": "code",
   "execution_count": 37,
   "metadata": {},
   "outputs": [],
   "source": [
    "model.compile(optimizer='adam',\n",
    "              loss='sparse_categorical_crossentropy',\n",
    "              metrics=['accuracy'])"
   ]
  },
  {
   "cell_type": "markdown",
   "metadata": {},
   "source": [
    "## Model training"
   ]
  },
  {
   "cell_type": "code",
   "execution_count": 38,
   "metadata": {},
   "outputs": [],
   "source": [
    "cp_callback = tf.keras.callbacks.ModelCheckpoint(\n",
    "              model_save_path, verbose=1, save_weights_only=False)\n",
    "es_callback = tf.keras.callbacks.EarlyStopping(patience=5, verbose=1)\n",
    "\n",
    "callbacks = [cp_callback, es_callback]"
   ]
  },
  {
   "cell_type": "code",
   "execution_count": 39,
   "metadata": {
    "scrolled": true
   },
   "outputs": [
    {
     "name": "stdout",
     "output_type": "stream",
     "text": [
      "Epoch 1/1000\n",
      " 1/24 [>.............................] - ETA: 16s - loss: 1.4057 - accuracy: 0.2500\n",
      "Epoch 1: saving model to /Users/monidp/Desktop/CV_Project/nn_model/nn_classifier.hdf5\n",
      "24/24 [==============================] - 1s 9ms/step - loss: 1.3642 - accuracy: 0.3093 - val_loss: 1.2539 - val_accuracy: 0.5760\n",
      "Epoch 2/1000\n",
      " 1/24 [>.............................] - ETA: 0s - loss: 1.3020 - accuracy: 0.3438\n",
      "Epoch 2: saving model to /Users/monidp/Desktop/CV_Project/nn_model/nn_classifier.hdf5\n",
      "24/24 [==============================] - 0s 4ms/step - loss: 1.2561 - accuracy: 0.4513 - val_loss: 1.0918 - val_accuracy: 0.7040\n",
      "Epoch 3/1000\n",
      " 1/24 [>.............................] - ETA: 0s - loss: 1.1837 - accuracy: 0.5625\n",
      "Epoch 3: saving model to /Users/monidp/Desktop/CV_Project/nn_model/nn_classifier.hdf5\n",
      "24/24 [==============================] - 0s 3ms/step - loss: 1.1048 - accuracy: 0.5620 - val_loss: 0.8477 - val_accuracy: 0.8900\n",
      "Epoch 4/1000\n",
      " 1/24 [>.............................] - ETA: 0s - loss: 0.9994 - accuracy: 0.6719\n",
      "Epoch 4: saving model to /Users/monidp/Desktop/CV_Project/nn_model/nn_classifier.hdf5\n",
      "24/24 [==============================] - 0s 3ms/step - loss: 0.9201 - accuracy: 0.6453 - val_loss: 0.5848 - val_accuracy: 0.8900\n",
      "Epoch 5/1000\n",
      " 1/24 [>.............................] - ETA: 0s - loss: 0.9081 - accuracy: 0.7344\n",
      "Epoch 5: saving model to /Users/monidp/Desktop/CV_Project/nn_model/nn_classifier.hdf5\n",
      "24/24 [==============================] - 0s 4ms/step - loss: 0.7734 - accuracy: 0.7093 - val_loss: 0.4224 - val_accuracy: 0.9340\n",
      "Epoch 6/1000\n",
      " 1/24 [>.............................] - ETA: 0s - loss: 0.7723 - accuracy: 0.6875\n",
      "Epoch 6: saving model to /Users/monidp/Desktop/CV_Project/nn_model/nn_classifier.hdf5\n",
      "24/24 [==============================] - 0s 3ms/step - loss: 0.7039 - accuracy: 0.7353 - val_loss: 0.3421 - val_accuracy: 0.9420\n",
      "Epoch 7/1000\n",
      " 1/24 [>.............................] - ETA: 0s - loss: 0.7252 - accuracy: 0.6719\n",
      "Epoch 7: saving model to /Users/monidp/Desktop/CV_Project/nn_model/nn_classifier.hdf5\n",
      "24/24 [==============================] - 0s 3ms/step - loss: 0.6306 - accuracy: 0.7567 - val_loss: 0.2834 - val_accuracy: 0.9580\n",
      "Epoch 8/1000\n",
      " 1/24 [>.............................] - ETA: 0s - loss: 0.6087 - accuracy: 0.7500\n",
      "Epoch 8: saving model to /Users/monidp/Desktop/CV_Project/nn_model/nn_classifier.hdf5\n",
      "24/24 [==============================] - 0s 3ms/step - loss: 0.6093 - accuracy: 0.7687 - val_loss: 0.2709 - val_accuracy: 0.9540\n",
      "Epoch 9/1000\n",
      " 1/24 [>.............................] - ETA: 0s - loss: 0.5409 - accuracy: 0.8125\n",
      "Epoch 9: saving model to /Users/monidp/Desktop/CV_Project/nn_model/nn_classifier.hdf5\n",
      "24/24 [==============================] - 0s 3ms/step - loss: 0.5609 - accuracy: 0.7773 - val_loss: 0.2229 - val_accuracy: 0.9600\n",
      "Epoch 10/1000\n",
      " 1/24 [>.............................] - ETA: 0s - loss: 0.4754 - accuracy: 0.8281\n",
      "Epoch 10: saving model to /Users/monidp/Desktop/CV_Project/nn_model/nn_classifier.hdf5\n",
      "24/24 [==============================] - 0s 3ms/step - loss: 0.5517 - accuracy: 0.7873 - val_loss: 0.2161 - val_accuracy: 0.9720\n",
      "Epoch 11/1000\n",
      " 1/24 [>.............................] - ETA: 0s - loss: 0.4989 - accuracy: 0.8125\n",
      "Epoch 11: saving model to /Users/monidp/Desktop/CV_Project/nn_model/nn_classifier.hdf5\n",
      "24/24 [==============================] - 0s 4ms/step - loss: 0.4982 - accuracy: 0.8120 - val_loss: 0.1899 - val_accuracy: 0.9620\n",
      "Epoch 12/1000\n",
      " 1/24 [>.............................] - ETA: 0s - loss: 0.5269 - accuracy: 0.7969\n",
      "Epoch 12: saving model to /Users/monidp/Desktop/CV_Project/nn_model/nn_classifier.hdf5\n",
      "24/24 [==============================] - 0s 4ms/step - loss: 0.4903 - accuracy: 0.8220 - val_loss: 0.1712 - val_accuracy: 0.9760\n",
      "Epoch 13/1000\n",
      " 1/24 [>.............................] - ETA: 0s - loss: 0.4529 - accuracy: 0.8281\n",
      "Epoch 13: saving model to /Users/monidp/Desktop/CV_Project/nn_model/nn_classifier.hdf5\n",
      "24/24 [==============================] - 0s 3ms/step - loss: 0.4571 - accuracy: 0.8333 - val_loss: 0.1628 - val_accuracy: 0.9780\n",
      "Epoch 14/1000\n",
      " 1/24 [>.............................] - ETA: 0s - loss: 0.4834 - accuracy: 0.8281\n",
      "Epoch 14: saving model to /Users/monidp/Desktop/CV_Project/nn_model/nn_classifier.hdf5\n",
      "24/24 [==============================] - 0s 4ms/step - loss: 0.4590 - accuracy: 0.8247 - val_loss: 0.1555 - val_accuracy: 0.9780\n",
      "Epoch 15/1000\n",
      " 1/24 [>.............................] - ETA: 0s - loss: 0.5079 - accuracy: 0.8125\n",
      "Epoch 15: saving model to /Users/monidp/Desktop/CV_Project/nn_model/nn_classifier.hdf5\n",
      "24/24 [==============================] - 0s 3ms/step - loss: 0.4394 - accuracy: 0.8313 - val_loss: 0.1432 - val_accuracy: 0.9780\n",
      "Epoch 16/1000\n",
      " 1/24 [>.............................] - ETA: 0s - loss: 0.3415 - accuracy: 0.8906\n",
      "Epoch 16: saving model to /Users/monidp/Desktop/CV_Project/nn_model/nn_classifier.hdf5\n",
      "24/24 [==============================] - 0s 3ms/step - loss: 0.4317 - accuracy: 0.8407 - val_loss: 0.1538 - val_accuracy: 0.9800\n",
      "Epoch 17/1000\n",
      " 1/24 [>.............................] - ETA: 0s - loss: 0.5009 - accuracy: 0.8438\n",
      "Epoch 17: saving model to /Users/monidp/Desktop/CV_Project/nn_model/nn_classifier.hdf5\n",
      "24/24 [==============================] - 0s 3ms/step - loss: 0.4388 - accuracy: 0.8433 - val_loss: 0.1545 - val_accuracy: 0.9760\n",
      "Epoch 18/1000\n",
      " 1/24 [>.............................] - ETA: 0s - loss: 0.3384 - accuracy: 0.8750\n",
      "Epoch 18: saving model to /Users/monidp/Desktop/CV_Project/nn_model/nn_classifier.hdf5\n",
      "24/24 [==============================] - 0s 3ms/step - loss: 0.3710 - accuracy: 0.8673 - val_loss: 0.1341 - val_accuracy: 0.9720\n",
      "Epoch 19/1000\n",
      " 1/24 [>.............................] - ETA: 0s - loss: 0.3881 - accuracy: 0.8750\n",
      "Epoch 19: saving model to /Users/monidp/Desktop/CV_Project/nn_model/nn_classifier.hdf5\n",
      "24/24 [==============================] - 0s 3ms/step - loss: 0.3671 - accuracy: 0.8693 - val_loss: 0.1159 - val_accuracy: 0.9800\n",
      "Epoch 20/1000\n",
      " 1/24 [>.............................] - ETA: 0s - loss: 0.3363 - accuracy: 0.8906\n",
      "Epoch 20: saving model to /Users/monidp/Desktop/CV_Project/nn_model/nn_classifier.hdf5\n",
      "24/24 [==============================] - 0s 3ms/step - loss: 0.3998 - accuracy: 0.8500 - val_loss: 0.1302 - val_accuracy: 0.9780\n",
      "Epoch 21/1000\n",
      " 1/24 [>.............................] - ETA: 0s - loss: 0.3792 - accuracy: 0.8438\n",
      "Epoch 21: saving model to /Users/monidp/Desktop/CV_Project/nn_model/nn_classifier.hdf5\n",
      "24/24 [==============================] - 0s 4ms/step - loss: 0.4019 - accuracy: 0.8480 - val_loss: 0.1278 - val_accuracy: 0.9760\n",
      "Epoch 22/1000\n",
      " 1/24 [>.............................] - ETA: 0s - loss: 0.3498 - accuracy: 0.9062\n",
      "Epoch 22: saving model to /Users/monidp/Desktop/CV_Project/nn_model/nn_classifier.hdf5\n",
      "24/24 [==============================] - 0s 3ms/step - loss: 0.3874 - accuracy: 0.8560 - val_loss: 0.1308 - val_accuracy: 0.9760\n",
      "Epoch 23/1000\n",
      " 1/24 [>.............................] - ETA: 0s - loss: 0.4190 - accuracy: 0.8281\n",
      "Epoch 23: saving model to /Users/monidp/Desktop/CV_Project/nn_model/nn_classifier.hdf5\n",
      "24/24 [==============================] - 0s 3ms/step - loss: 0.3705 - accuracy: 0.8627 - val_loss: 0.1246 - val_accuracy: 0.9780\n",
      "Epoch 24/1000\n",
      " 1/24 [>.............................] - ETA: 0s - loss: 0.2563 - accuracy: 0.8906\n",
      "Epoch 24: saving model to /Users/monidp/Desktop/CV_Project/nn_model/nn_classifier.hdf5\n",
      "24/24 [==============================] - 0s 4ms/step - loss: 0.3472 - accuracy: 0.8720 - val_loss: 0.1187 - val_accuracy: 0.9760\n",
      "Epoch 24: early stopping\n"
     ]
    },
    {
     "data": {
      "text/plain": [
       "<keras.callbacks.History at 0x7fdd27507af0>"
      ]
     },
     "execution_count": 39,
     "metadata": {},
     "output_type": "execute_result"
    }
   ],
   "source": [
    "model.fit(X_train,\n",
    "          y_train,\n",
    "          epochs=1000,\n",
    "          batch_size=64,\n",
    "          validation_data=(X_test, y_test),\n",
    "          callbacks=callbacks)"
   ]
  },
  {
   "cell_type": "code",
   "execution_count": 40,
   "metadata": {
    "scrolled": true
   },
   "outputs": [
    {
     "name": "stdout",
     "output_type": "stream",
     "text": [
      "16/16 [==============================] - 0s 1ms/step - loss: 0.1187 - accuracy: 0.9760\n"
     ]
    }
   ],
   "source": [
    "val_loss, val_acc = model.evaluate(X_test, y_test, batch_size=32)"
   ]
  },
  {
   "cell_type": "code",
   "execution_count": 7,
   "metadata": {},
   "outputs": [
    {
     "name": "stderr",
     "output_type": "stream",
     "text": [
      "2022-12-28 09:44:11.043388: I tensorflow/core/platform/cpu_feature_guard.cc:193] This TensorFlow binary is optimized with oneAPI Deep Neural Network Library (oneDNN) to use the following CPU instructions in performance-critical operations:  AVX2 FMA\n",
      "To enable them in other operations, rebuild TensorFlow with the appropriate compiler flags.\n"
     ]
    }
   ],
   "source": [
    "model = tf.keras.models.load_model('./nn_classifier.hdf5')"
   ]
  },
  {
   "cell_type": "markdown",
   "metadata": {},
   "source": [
    "## Confusion matrix"
   ]
  },
  {
   "cell_type": "code",
   "execution_count": 16,
   "metadata": {},
   "outputs": [
    {
     "name": "stdout",
     "output_type": "stream",
     "text": [
      "[[130   1   0   0]\n",
      " [  8 122   0   3]\n",
      " [  0   0 124   0]\n",
      " [  0   0   0 112]]\n",
      "[[9.9260169e-01 1.1845793e-03 6.0687023e-03 1.4505377e-04]\n",
      " [9.8778498e-01 2.3625349e-03 9.6481964e-03 2.0421520e-04]\n",
      " [9.9195898e-01 2.1238443e-03 5.6023663e-03 3.1486709e-04]\n",
      " ...\n",
      " [6.9010913e-01 2.7683470e-01 1.4027492e-02 1.9028682e-02]\n",
      " [9.4379457e-03 4.0062482e-04 9.7823459e-01 1.1926807e-02]\n",
      " [1.3870668e-02 8.5374224e-04 9.5188034e-01 3.3395220e-02]]\n"
     ]
    }
   ],
   "source": [
    "labels = sorted(list(set(y_test)))\n",
    "print(confusion_matrix(y_test, y_pred, labels=labels))"
   ]
  },
  {
   "cell_type": "code",
   "execution_count": 9,
   "metadata": {},
   "outputs": [
    {
     "name": "stdout",
     "output_type": "stream",
     "text": [
      "16/16 [==============================] - 0s 2ms/step\n"
     ]
    },
    {
     "data": {
      "image/png": "[encoded data removed]",
      "text/plain": [
       "<Figure size 504x432 with 2 Axes>"
      ]
     },
     "metadata": {
      "needs_background": "light"
     },
     "output_type": "display_data"
    },
    {
     "name": "stdout",
     "output_type": "stream",
     "text": [
      "Classification Report\n",
      "              precision    recall  f1-score   support\n",
      "\n",
      "           0       0.94      0.99      0.97       131\n",
      "           1       0.99      0.92      0.95       133\n",
      "           2       1.00      1.00      1.00       124\n",
      "           3       0.97      1.00      0.99       112\n",
      "\n",
      "    accuracy                           0.98       500\n",
      "   macro avg       0.98      0.98      0.98       500\n",
      "weighted avg       0.98      0.98      0.98       500\n",
      "\n"
     ]
    }
   ],
   "source": [
    "import pandas as pd\n",
    "import seaborn as sns\n",
    "import matplotlib.pyplot as plt\n",
    "from sklearn.metrics import confusion_matrix, classification_report\n",
    "\n",
    "def print_confusion_matrix(y_true, y_pred, report=True):\n",
    "    labels = sorted(list(set(y_true)))\n",
    "    cmx_data = confusion_matrix(y_true, y_pred, labels=labels)\n",
    "    \n",
    "    df_cmx = pd.DataFrame(cmx_data, index=labels, columns=labels)\n",
    " \n",
    "    fig, ax = plt.subplots(figsize=(7, 6))\n",
    "    sns.heatmap(df_cmx, annot=True, fmt='g' ,square=False)\n",
    "    ax.set_ylim(len(set(y_true)), 0)\n",
    "    plt.show()\n",
    "    \n",
    "    if report:\n",
    "        print('Classification Report')\n",
    "        print(classification_report(y_test, y_pred))\n",
    "\n",
    "Y_pred = model.predict(X_test)\n",
    "y_pred = np.argmax(Y_pred, axis=1)\n",
    "\n",
    "print_confusion_matrix(y_test, y_pred)"
   ]
  }
 ],
 "metadata": {
  "kernelspec": {
   "display_name": "Python 3 (ipykernel)",
   "language": "python",
   "name": "python3"
  },
  "language_info": {
   "codemirror_mode": {
    "name": "ipython",
    "version": 3
   },
   "file_extension": ".py",
   "mimetype": "text/x-python",
   "name": "python",
   "nbconvert_exporter": "python",
   "pygments_lexer": "ipython3",
   "version": "3.9.12"
  }
 },
 "nbformat": 4,
 "nbformat_minor": 2
}
