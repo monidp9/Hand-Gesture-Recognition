{
 "cells": [
  {
   "cell_type": "code",
   "execution_count": 1,
   "metadata": {},
   "outputs": [
    {
     "name": "stderr",
     "output_type": "stream",
     "text": [
      "2022-12-28 14:45:53.239427: I tensorflow/core/platform/cpu_feature_guard.cc:193] This TensorFlow binary is optimized with oneAPI Deep Neural Network Library (oneDNN) to use the following CPU instructions in performance-critical operations:  AVX2 FMA\n",
      "To enable them in other operations, rebuild TensorFlow with the appropriate compiler flags.\n"
     ]
    }
   ],
   "source": [
    "import numpy as np\n",
    "import tensorflow as tf\n",
    "\n",
    "from sklearn.model_selection import train_test_split"
   ]
  },
  {
   "cell_type": "code",
   "execution_count": 7,
   "metadata": {},
   "outputs": [],
   "source": [
    "RANDOM_SEED = 142\n",
    "NUM_CLASSES = 5"
   ]
  },
  {
   "cell_type": "code",
   "execution_count": 3,
   "metadata": {},
   "outputs": [],
   "source": [
    "dataset_path = '/Users/monidp/Desktop/HandGestureRecognition/nn_model/keypoint.csv'\n",
    "model_save_path = '/Users/monidp/Desktop/HandGestureRecognition/nn_model/nn_classifier.hdf5'"
   ]
  },
  {
   "cell_type": "markdown",
   "metadata": {},
   "source": [
    "## Dataset loading"
   ]
  },
  {
   "cell_type": "code",
   "execution_count": 4,
   "metadata": {},
   "outputs": [],
   "source": [
    "X_dataset = np.loadtxt(dataset_path, delimiter=',', dtype='float32', usecols=list(range(1, (21 * 2) + 1)))\n",
    "y_dataset = np.loadtxt(dataset_path, delimiter=',', dtype='int32', usecols=(0))\n",
    "\n",
    "X_train, X_test, y_train, y_test = train_test_split(X_dataset, y_dataset, train_size=0.75, random_state=RANDOM_SEED)"
   ]
  },
  {
   "cell_type": "markdown",
   "metadata": {},
   "source": [
    "## Model building"
   ]
  },
  {
   "cell_type": "code",
   "execution_count": 8,
   "metadata": {},
   "outputs": [
    {
     "name": "stdout",
     "output_type": "stream",
     "text": [
      "Model: \"sequential_1\"\n",
      "_________________________________________________________________\n",
      " Layer (type)                Output Shape              Param #   \n",
      "=================================================================\n",
      " dropout_3 (Dropout)         (None, 42)                0         \n",
      "                                                                 \n",
      " dense_4 (Dense)             (None, 50)                2150      \n",
      "                                                                 \n",
      " dropout_4 (Dropout)         (None, 50)                0         \n",
      "                                                                 \n",
      " dense_5 (Dense)             (None, 50)                2550      \n",
      "                                                                 \n",
      " dropout_5 (Dropout)         (None, 50)                0         \n",
      "                                                                 \n",
      " dense_6 (Dense)             (None, 50)                2550      \n",
      "                                                                 \n",
      " dense_7 (Dense)             (None, 5)                 255       \n",
      "                                                                 \n",
      "=================================================================\n",
      "Total params: 7,505\n",
      "Trainable params: 7,505\n",
      "Non-trainable params: 0\n",
      "_________________________________________________________________\n"
     ]
    }
   ],
   "source": [
    "model = tf.keras.models.Sequential([\n",
    "    tf.keras.layers.Input((21 * 2, )),\n",
    "    tf.keras.layers.Dropout(0.2),\n",
    "    tf.keras.layers.Dense(50, activation='relu'),\n",
    "    tf.keras.layers.Dropout(0.2),\n",
    "    tf.keras.layers.Dense(50, activation='relu'),\n",
    "    tf.keras.layers.Dropout(0.2),\n",
    "    tf.keras.layers.Dense(50, activation='relu'),\n",
    "    tf.keras.layers.Dense(NUM_CLASSES, activation='softmax')\n",
    "])\n",
    "\n",
    "model.summary()"
   ]
  },
  {
   "cell_type": "code",
   "execution_count": 9,
   "metadata": {},
   "outputs": [],
   "source": [
    "model.compile(optimizer='adam',\n",
    "              loss='sparse_categorical_crossentropy',\n",
    "              metrics=['accuracy'])"
   ]
  },
  {
   "cell_type": "markdown",
   "metadata": {},
   "source": [
    "## Model training"
   ]
  },
  {
   "cell_type": "code",
   "execution_count": 10,
   "metadata": {},
   "outputs": [],
   "source": [
    "cp_callback = tf.keras.callbacks.ModelCheckpoint(\n",
    "              model_save_path, verbose=1, save_weights_only=False)\n",
    "es_callback = tf.keras.callbacks.EarlyStopping(patience=5, verbose=1)\n",
    "\n",
    "callbacks = [cp_callback, es_callback]"
   ]
  },
  {
   "cell_type": "code",
   "execution_count": 11,
   "metadata": {
    "scrolled": true
   },
   "outputs": [
    {
     "name": "stdout",
     "output_type": "stream",
     "text": [
      "Epoch 1/1000\n",
      "21/30 [====================>.........] - ETA: 0s - loss: 1.5903 - accuracy: 0.2403 \n",
      "Epoch 1: saving model to /Users/monidp/Desktop/HandGestureRecognition/nn_model/nn_classifier.hdf5\n",
      "30/30 [==============================] - 1s 9ms/step - loss: 1.5790 - accuracy: 0.2640 - val_loss: 1.4972 - val_accuracy: 0.5024\n",
      "Epoch 2/1000\n",
      " 1/30 [>.............................] - ETA: 0s - loss: 1.5186 - accuracy: 0.3906\n",
      "Epoch 2: saving model to /Users/monidp/Desktop/HandGestureRecognition/nn_model/nn_classifier.hdf5\n",
      "30/30 [==============================] - 0s 3ms/step - loss: 1.4875 - accuracy: 0.3733 - val_loss: 1.3297 - val_accuracy: 0.6240\n",
      "Epoch 3/1000\n",
      " 1/30 [>.............................] - ETA: 0s - loss: 1.3813 - accuracy: 0.5000\n",
      "Epoch 3: saving model to /Users/monidp/Desktop/HandGestureRecognition/nn_model/nn_classifier.hdf5\n",
      "30/30 [==============================] - 0s 3ms/step - loss: 1.3423 - accuracy: 0.4560 - val_loss: 1.0653 - val_accuracy: 0.6992\n",
      "Epoch 4/1000\n",
      " 1/30 [>.............................] - ETA: 0s - loss: 1.3269 - accuracy: 0.4219\n",
      "Epoch 4: saving model to /Users/monidp/Desktop/HandGestureRecognition/nn_model/nn_classifier.hdf5\n",
      "30/30 [==============================] - 0s 3ms/step - loss: 1.1820 - accuracy: 0.5195 - val_loss: 0.8488 - val_accuracy: 0.7584\n",
      "Epoch 5/1000\n",
      " 1/30 [>.............................] - ETA: 0s - loss: 1.1433 - accuracy: 0.5781\n",
      "Epoch 5: saving model to /Users/monidp/Desktop/HandGestureRecognition/nn_model/nn_classifier.hdf5\n",
      "30/30 [==============================] - 0s 3ms/step - loss: 1.0860 - accuracy: 0.5685 - val_loss: 0.7117 - val_accuracy: 0.8112\n",
      "Epoch 6/1000\n",
      " 1/30 [>.............................] - ETA: 0s - loss: 0.9249 - accuracy: 0.6250\n",
      "Epoch 6: saving model to /Users/monidp/Desktop/HandGestureRecognition/nn_model/nn_classifier.hdf5\n",
      "30/30 [==============================] - 0s 3ms/step - loss: 1.0060 - accuracy: 0.6037 - val_loss: 0.6385 - val_accuracy: 0.8208\n",
      "Epoch 7/1000\n",
      " 1/30 [>.............................] - ETA: 0s - loss: 1.0029 - accuracy: 0.6562\n",
      "Epoch 7: saving model to /Users/monidp/Desktop/HandGestureRecognition/nn_model/nn_classifier.hdf5\n",
      "30/30 [==============================] - 0s 3ms/step - loss: 0.9869 - accuracy: 0.6021 - val_loss: 0.6234 - val_accuracy: 0.8416\n",
      "Epoch 8/1000\n",
      " 1/30 [>.............................] - ETA: 0s - loss: 1.0508 - accuracy: 0.5156\n",
      "Epoch 8: saving model to /Users/monidp/Desktop/HandGestureRecognition/nn_model/nn_classifier.hdf5\n",
      "30/30 [==============================] - 0s 3ms/step - loss: 0.9293 - accuracy: 0.6395 - val_loss: 0.5688 - val_accuracy: 0.8560\n",
      "Epoch 9/1000\n",
      " 1/30 [>.............................] - ETA: 0s - loss: 0.8048 - accuracy: 0.6562\n",
      "Epoch 9: saving model to /Users/monidp/Desktop/HandGestureRecognition/nn_model/nn_classifier.hdf5\n",
      "30/30 [==============================] - 0s 3ms/step - loss: 0.9168 - accuracy: 0.6320 - val_loss: 0.5446 - val_accuracy: 0.8560\n",
      "Epoch 10/1000\n",
      " 1/30 [>.............................] - ETA: 0s - loss: 0.8296 - accuracy: 0.6094\n",
      "Epoch 10: saving model to /Users/monidp/Desktop/HandGestureRecognition/nn_model/nn_classifier.hdf5\n",
      "30/30 [==============================] - 0s 3ms/step - loss: 0.8921 - accuracy: 0.6539 - val_loss: 0.5210 - val_accuracy: 0.8720\n",
      "Epoch 11/1000\n",
      " 1/30 [>.............................] - ETA: 0s - loss: 0.7942 - accuracy: 0.6719\n",
      "Epoch 11: saving model to /Users/monidp/Desktop/HandGestureRecognition/nn_model/nn_classifier.hdf5\n",
      "30/30 [==============================] - 0s 3ms/step - loss: 0.8213 - accuracy: 0.6677 - val_loss: 0.4876 - val_accuracy: 0.8464\n",
      "Epoch 12/1000\n",
      " 1/30 [>.............................] - ETA: 0s - loss: 0.6964 - accuracy: 0.7500\n",
      "Epoch 12: saving model to /Users/monidp/Desktop/HandGestureRecognition/nn_model/nn_classifier.hdf5\n",
      "30/30 [==============================] - 0s 3ms/step - loss: 0.8126 - accuracy: 0.6720 - val_loss: 0.4682 - val_accuracy: 0.8528\n",
      "Epoch 13/1000\n",
      " 1/30 [>.............................] - ETA: 0s - loss: 0.7828 - accuracy: 0.7500\n",
      "Epoch 13: saving model to /Users/monidp/Desktop/HandGestureRecognition/nn_model/nn_classifier.hdf5\n",
      "30/30 [==============================] - 0s 3ms/step - loss: 0.7964 - accuracy: 0.6928 - val_loss: 0.4553 - val_accuracy: 0.8576\n",
      "Epoch 14/1000\n",
      " 1/30 [>.............................] - ETA: 0s - loss: 0.6602 - accuracy: 0.7656\n",
      "Epoch 14: saving model to /Users/monidp/Desktop/HandGestureRecognition/nn_model/nn_classifier.hdf5\n",
      "30/30 [==============================] - 0s 3ms/step - loss: 0.7643 - accuracy: 0.6944 - val_loss: 0.4397 - val_accuracy: 0.8832\n",
      "Epoch 15/1000\n",
      " 1/30 [>.............................] - ETA: 0s - loss: 0.7653 - accuracy: 0.7031\n",
      "Epoch 15: saving model to /Users/monidp/Desktop/HandGestureRecognition/nn_model/nn_classifier.hdf5\n",
      "30/30 [==============================] - 0s 3ms/step - loss: 0.7544 - accuracy: 0.7104 - val_loss: 0.4280 - val_accuracy: 0.8832\n",
      "Epoch 16/1000\n",
      " 1/30 [>.............................] - ETA: 0s - loss: 0.6686 - accuracy: 0.7344\n",
      "Epoch 16: saving model to /Users/monidp/Desktop/HandGestureRecognition/nn_model/nn_classifier.hdf5\n",
      "30/30 [==============================] - 0s 3ms/step - loss: 0.7399 - accuracy: 0.7168 - val_loss: 0.4048 - val_accuracy: 0.8864\n",
      "Epoch 17/1000\n",
      " 1/30 [>.............................] - ETA: 0s - loss: 0.7393 - accuracy: 0.6875\n",
      "Epoch 17: saving model to /Users/monidp/Desktop/HandGestureRecognition/nn_model/nn_classifier.hdf5\n",
      "30/30 [==============================] - 0s 3ms/step - loss: 0.7132 - accuracy: 0.7195 - val_loss: 0.3932 - val_accuracy: 0.8880\n",
      "Epoch 18/1000\n",
      " 1/30 [>.............................] - ETA: 0s - loss: 0.6287 - accuracy: 0.7656\n",
      "Epoch 18: saving model to /Users/monidp/Desktop/HandGestureRecognition/nn_model/nn_classifier.hdf5\n",
      "30/30 [==============================] - 0s 3ms/step - loss: 0.7165 - accuracy: 0.7227 - val_loss: 0.3904 - val_accuracy: 0.8864\n",
      "Epoch 19/1000\n",
      " 1/30 [>.............................] - ETA: 0s - loss: 0.6690 - accuracy: 0.7188\n",
      "Epoch 19: saving model to /Users/monidp/Desktop/HandGestureRecognition/nn_model/nn_classifier.hdf5\n",
      "30/30 [==============================] - 0s 3ms/step - loss: 0.7059 - accuracy: 0.7136 - val_loss: 0.3873 - val_accuracy: 0.8928\n",
      "Epoch 20/1000\n",
      " 1/30 [>.............................] - ETA: 0s - loss: 0.6925 - accuracy: 0.7188\n",
      "Epoch 20: saving model to /Users/monidp/Desktop/HandGestureRecognition/nn_model/nn_classifier.hdf5\n",
      "30/30 [==============================] - 0s 3ms/step - loss: 0.6979 - accuracy: 0.7301 - val_loss: 0.4069 - val_accuracy: 0.8688\n",
      "Epoch 21/1000\n",
      " 1/30 [>.............................] - ETA: 0s - loss: 0.7594 - accuracy: 0.6875\n",
      "Epoch 21: saving model to /Users/monidp/Desktop/HandGestureRecognition/nn_model/nn_classifier.hdf5\n",
      "30/30 [==============================] - 0s 3ms/step - loss: 0.7023 - accuracy: 0.7173 - val_loss: 0.3797 - val_accuracy: 0.8816\n",
      "Epoch 22/1000\n",
      " 1/30 [>.............................] - ETA: 0s - loss: 0.6260 - accuracy: 0.7656\n",
      "Epoch 22: saving model to /Users/monidp/Desktop/HandGestureRecognition/nn_model/nn_classifier.hdf5\n",
      "30/30 [==============================] - 0s 3ms/step - loss: 0.6646 - accuracy: 0.7419 - val_loss: 0.3660 - val_accuracy: 0.8960\n",
      "Epoch 23/1000\n",
      " 1/30 [>.............................] - ETA: 0s - loss: 0.7043 - accuracy: 0.7188\n",
      "Epoch 23: saving model to /Users/monidp/Desktop/HandGestureRecognition/nn_model/nn_classifier.hdf5\n",
      "30/30 [==============================] - 0s 3ms/step - loss: 0.6393 - accuracy: 0.7323 - val_loss: 0.3615 - val_accuracy: 0.9200\n",
      "Epoch 24/1000\n",
      " 1/30 [>.............................] - ETA: 0s - loss: 0.8869 - accuracy: 0.6875\n",
      "Epoch 24: saving model to /Users/monidp/Desktop/HandGestureRecognition/nn_model/nn_classifier.hdf5\n",
      "30/30 [==============================] - 0s 3ms/step - loss: 0.6557 - accuracy: 0.7461 - val_loss: 0.3629 - val_accuracy: 0.9056\n",
      "Epoch 25/1000\n",
      " 1/30 [>.............................] - ETA: 0s - loss: 0.7687 - accuracy: 0.6406\n",
      "Epoch 25: saving model to /Users/monidp/Desktop/HandGestureRecognition/nn_model/nn_classifier.hdf5\n",
      "30/30 [==============================] - 0s 3ms/step - loss: 0.6297 - accuracy: 0.7595 - val_loss: 0.3512 - val_accuracy: 0.9008\n",
      "Epoch 26/1000\n"
     ]
    },
    {
     "name": "stdout",
     "output_type": "stream",
     "text": [
      " 1/30 [>.............................] - ETA: 0s - loss: 0.5889 - accuracy: 0.7188\n",
      "Epoch 26: saving model to /Users/monidp/Desktop/HandGestureRecognition/nn_model/nn_classifier.hdf5\n",
      "30/30 [==============================] - 0s 3ms/step - loss: 0.6093 - accuracy: 0.7605 - val_loss: 0.3484 - val_accuracy: 0.8928\n",
      "Epoch 27/1000\n",
      " 1/30 [>.............................] - ETA: 0s - loss: 0.6463 - accuracy: 0.6875\n",
      "Epoch 27: saving model to /Users/monidp/Desktop/HandGestureRecognition/nn_model/nn_classifier.hdf5\n",
      "30/30 [==============================] - 0s 3ms/step - loss: 0.6323 - accuracy: 0.7563 - val_loss: 0.3564 - val_accuracy: 0.9200\n",
      "Epoch 28/1000\n",
      " 1/30 [>.............................] - ETA: 0s - loss: 0.6265 - accuracy: 0.7500\n",
      "Epoch 28: saving model to /Users/monidp/Desktop/HandGestureRecognition/nn_model/nn_classifier.hdf5\n",
      "30/30 [==============================] - 0s 3ms/step - loss: 0.6192 - accuracy: 0.7477 - val_loss: 0.3433 - val_accuracy: 0.9056\n",
      "Epoch 29/1000\n",
      " 1/30 [>.............................] - ETA: 0s - loss: 0.5009 - accuracy: 0.7812\n",
      "Epoch 29: saving model to /Users/monidp/Desktop/HandGestureRecognition/nn_model/nn_classifier.hdf5\n",
      "30/30 [==============================] - 0s 3ms/step - loss: 0.5990 - accuracy: 0.7712 - val_loss: 0.3541 - val_accuracy: 0.9296\n",
      "Epoch 30/1000\n",
      " 1/30 [>.............................] - ETA: 0s - loss: 0.5790 - accuracy: 0.7812\n",
      "Epoch 30: saving model to /Users/monidp/Desktop/HandGestureRecognition/nn_model/nn_classifier.hdf5\n",
      "30/30 [==============================] - 0s 3ms/step - loss: 0.5649 - accuracy: 0.7829 - val_loss: 0.3197 - val_accuracy: 0.9088\n",
      "Epoch 31/1000\n",
      " 1/30 [>.............................] - ETA: 0s - loss: 0.8871 - accuracy: 0.7031\n",
      "Epoch 31: saving model to /Users/monidp/Desktop/HandGestureRecognition/nn_model/nn_classifier.hdf5\n",
      "30/30 [==============================] - 0s 3ms/step - loss: 0.6077 - accuracy: 0.7600 - val_loss: 0.3303 - val_accuracy: 0.9168\n",
      "Epoch 32/1000\n",
      " 1/30 [>.............................] - ETA: 0s - loss: 0.8774 - accuracy: 0.6406\n",
      "Epoch 32: saving model to /Users/monidp/Desktop/HandGestureRecognition/nn_model/nn_classifier.hdf5\n",
      "30/30 [==============================] - 0s 3ms/step - loss: 0.5920 - accuracy: 0.7733 - val_loss: 0.3293 - val_accuracy: 0.8976\n",
      "Epoch 33/1000\n",
      " 1/30 [>.............................] - ETA: 0s - loss: 0.6439 - accuracy: 0.7500\n",
      "Epoch 33: saving model to /Users/monidp/Desktop/HandGestureRecognition/nn_model/nn_classifier.hdf5\n",
      "30/30 [==============================] - 0s 3ms/step - loss: 0.5632 - accuracy: 0.7904 - val_loss: 0.3292 - val_accuracy: 0.9104\n",
      "Epoch 34/1000\n",
      " 1/30 [>.............................] - ETA: 0s - loss: 1.1771 - accuracy: 0.5312\n",
      "Epoch 34: saving model to /Users/monidp/Desktop/HandGestureRecognition/nn_model/nn_classifier.hdf5\n",
      "30/30 [==============================] - 0s 3ms/step - loss: 0.5965 - accuracy: 0.7701 - val_loss: 0.3128 - val_accuracy: 0.9104\n",
      "Epoch 35/1000\n",
      " 1/30 [>.............................] - ETA: 0s - loss: 0.5007 - accuracy: 0.8594\n",
      "Epoch 35: saving model to /Users/monidp/Desktop/HandGestureRecognition/nn_model/nn_classifier.hdf5\n",
      "30/30 [==============================] - 0s 3ms/step - loss: 0.5461 - accuracy: 0.7899 - val_loss: 0.3115 - val_accuracy: 0.9136\n",
      "Epoch 36/1000\n",
      " 1/30 [>.............................] - ETA: 0s - loss: 0.4755 - accuracy: 0.7656\n",
      "Epoch 36: saving model to /Users/monidp/Desktop/HandGestureRecognition/nn_model/nn_classifier.hdf5\n",
      "30/30 [==============================] - 0s 3ms/step - loss: 0.5408 - accuracy: 0.7931 - val_loss: 0.3062 - val_accuracy: 0.9088\n",
      "Epoch 37/1000\n",
      " 1/30 [>.............................] - ETA: 0s - loss: 0.5385 - accuracy: 0.7344\n",
      "Epoch 37: saving model to /Users/monidp/Desktop/HandGestureRecognition/nn_model/nn_classifier.hdf5\n",
      "30/30 [==============================] - 0s 3ms/step - loss: 0.5506 - accuracy: 0.7883 - val_loss: 0.3033 - val_accuracy: 0.9152\n",
      "Epoch 38/1000\n",
      " 1/30 [>.............................] - ETA: 0s - loss: 0.4778 - accuracy: 0.8438\n",
      "Epoch 38: saving model to /Users/monidp/Desktop/HandGestureRecognition/nn_model/nn_classifier.hdf5\n",
      "30/30 [==============================] - 0s 3ms/step - loss: 0.5395 - accuracy: 0.7957 - val_loss: 0.3052 - val_accuracy: 0.9312\n",
      "Epoch 39/1000\n",
      " 1/30 [>.............................] - ETA: 0s - loss: 0.5207 - accuracy: 0.7656\n",
      "Epoch 39: saving model to /Users/monidp/Desktop/HandGestureRecognition/nn_model/nn_classifier.hdf5\n",
      "30/30 [==============================] - 0s 3ms/step - loss: 0.5155 - accuracy: 0.7952 - val_loss: 0.2817 - val_accuracy: 0.9248\n",
      "Epoch 40/1000\n",
      " 1/30 [>.............................] - ETA: 0s - loss: 0.6286 - accuracy: 0.6875\n",
      "Epoch 40: saving model to /Users/monidp/Desktop/HandGestureRecognition/nn_model/nn_classifier.hdf5\n",
      "30/30 [==============================] - 0s 3ms/step - loss: 0.5282 - accuracy: 0.7947 - val_loss: 0.3028 - val_accuracy: 0.9152\n",
      "Epoch 41/1000\n",
      " 1/30 [>.............................] - ETA: 0s - loss: 0.6846 - accuracy: 0.7500\n",
      "Epoch 41: saving model to /Users/monidp/Desktop/HandGestureRecognition/nn_model/nn_classifier.hdf5\n",
      "30/30 [==============================] - 0s 3ms/step - loss: 0.5389 - accuracy: 0.7936 - val_loss: 0.2865 - val_accuracy: 0.9168\n",
      "Epoch 42/1000\n",
      " 1/30 [>.............................] - ETA: 0s - loss: 0.5499 - accuracy: 0.7812\n",
      "Epoch 42: saving model to /Users/monidp/Desktop/HandGestureRecognition/nn_model/nn_classifier.hdf5\n",
      "30/30 [==============================] - 0s 3ms/step - loss: 0.5101 - accuracy: 0.8053 - val_loss: 0.2821 - val_accuracy: 0.9184\n",
      "Epoch 43/1000\n",
      " 1/30 [>.............................] - ETA: 0s - loss: 0.5785 - accuracy: 0.7500\n",
      "Epoch 43: saving model to /Users/monidp/Desktop/HandGestureRecognition/nn_model/nn_classifier.hdf5\n",
      "30/30 [==============================] - 0s 3ms/step - loss: 0.5180 - accuracy: 0.8021 - val_loss: 0.3184 - val_accuracy: 0.9264\n",
      "Epoch 44/1000\n",
      " 1/30 [>.............................] - ETA: 0s - loss: 0.5592 - accuracy: 0.7500\n",
      "Epoch 44: saving model to /Users/monidp/Desktop/HandGestureRecognition/nn_model/nn_classifier.hdf5\n",
      "30/30 [==============================] - 0s 3ms/step - loss: 0.5158 - accuracy: 0.7984 - val_loss: 0.3125 - val_accuracy: 0.9248\n",
      "Epoch 44: early stopping\n"
     ]
    },
    {
     "data": {
      "text/plain": [
       "<keras.callbacks.History at 0x7f9ead97b370>"
      ]
     },
     "execution_count": 11,
     "metadata": {},
     "output_type": "execute_result"
    }
   ],
   "source": [
    "model.fit(X_train,\n",
    "          y_train,\n",
    "          epochs=1000,\n",
    "          batch_size=64,\n",
    "          validation_data=(X_test, y_test),\n",
    "          callbacks=callbacks)"
   ]
  },
  {
   "cell_type": "code",
   "execution_count": 12,
   "metadata": {
    "scrolled": true
   },
   "outputs": [
    {
     "name": "stdout",
     "output_type": "stream",
     "text": [
      "10/10 [==============================] - 0s 1ms/step - loss: 0.3125 - accuracy: 0.9248\n"
     ]
    }
   ],
   "source": [
    "val_loss, val_acc = model.evaluate(X_test, y_test, batch_size=64)"
   ]
  }
 ],
 "metadata": {
  "kernelspec": {
   "display_name": "Python 3 (ipykernel)",
   "language": "python",
   "name": "python3"
  },
  "language_info": {
   "codemirror_mode": {
    "name": "ipython",
    "version": 3
   },
   "file_extension": ".py",
   "mimetype": "text/x-python",
   "name": "python",
   "nbconvert_exporter": "python",
   "pygments_lexer": "ipython3",
   "version": "3.9.12"
  }
 },
 "nbformat": 4,
 "nbformat_minor": 2
}
